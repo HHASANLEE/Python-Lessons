{
  "nbformat": 4,
  "nbformat_minor": 0,
  "metadata": {
    "colab": {
      "provenance": []
    },
    "kernelspec": {
      "name": "python3",
      "display_name": "Python 3"
    },
    "language_info": {
      "name": "python"
    }
  },
  "cells": [
    {
      "cell_type": "markdown",
      "source": [
        "1) Get the keys from the dictionaries named *sample_dic* as a list\n",
        "```\n",
        "sample_dict = {\n",
        "    'Physics': 82,\n",
        "    'Math': 65,\n",
        "    'history': 75\n",
        "}\n",
        "```\n",
        "\n"
      ],
      "metadata": {
        "id": "t0LHIhxSJLoq"
      }
    },
    {
      "cell_type": "markdown",
      "source": [
        "2) Get sum of all the values in a dict\n",
        "\n",
        "```\n",
        "#Input:\n",
        "sample_dict = {\n",
        "    'Physics': 82,\n",
        "    'Math': 65,\n",
        "    'history': 75,\n",
        "    'chemistry': 89,\n",
        "    'GK': 50\n",
        "    \n",
        "}\n",
        "\n",
        "#Expected Output: 361\n",
        "\n",
        "```"
      ],
      "metadata": {
        "id": "w5sNggvfKBPs"
      }
    },
    {
      "cell_type": "markdown",
      "source": [
        "3)Get the key of a minimum value from the following dictionary\n",
        "\n",
        "```\n",
        "#Input:\n",
        "sample_dict = {\n",
        "  'Physics': 82,\n",
        "  'Math': 65,\n",
        "  'history': 75\n",
        "}\n",
        "\n",
        "#Expected Output: Math\n",
        "\n",
        "```"
      ],
      "metadata": {
        "id": "hXoPfj4-JXko"
      }
    },
    {
      "cell_type": "markdown",
      "source": [
        "4) Delete a list of keys from a dictionary\n",
        "```\n",
        "#Inputs:\n",
        "sample_dict = {\n",
        "    \"name\": \"Khalid\",\n",
        "    \"age\": 23,\n",
        "    \"salary\": 1000,\n",
        "    \"city\": \"Baku\"\n",
        "}\n",
        "\n",
        "# Keys to remove\n",
        "keys = [\"name\", \"salary\"]\n",
        "\n",
        "# Expected Output: {'city': 'Baku', 'age': 23}\n",
        "```"
      ],
      "metadata": {
        "id": "CTSGF0hmJgDD"
      }
    },
    {
      "cell_type": "markdown",
      "source": [
        "5) Create a dictionary by extracting the keys from a given dictionary\n",
        "\n",
        "```\n",
        "# Inputs:\n",
        "sample_dict = {\n",
        "    \"name\": \"Khalid\",\n",
        "    \"age\": 23,\n",
        "    \"salary\": 1000,\n",
        "    \"city\": \"Baku\"}\n",
        "\n",
        "# Keys to extract\n",
        "keys = [\"name\", \"salary\"]\n",
        "\n",
        "# Expected Output: {'name': 'Khalid', 'salary': 1000}\n",
        "```"
      ],
      "metadata": {
        "id": "keTauTOfJ0RA"
      }
    },
    {
      "cell_type": "markdown",
      "source": [
        "6) Take 10 integers from keyboard using loop and print their average value\n",
        "on the screen."
      ],
      "metadata": {
        "id": "KW4qi0i5KNQd"
      }
    },
    {
      "cell_type": "markdown",
      "source": [
        "7) Print multiplication table of 24 using loop."
      ],
      "metadata": {
        "id": "yTkI4J3aKOrs"
      }
    },
    {
      "cell_type": "markdown",
      "source": [
        "8) Factorial of any number n is represented by n! and is equal to 1*2*3*....*(n-1)*n.\n",
        "\n",
        "Write a program to calculate factorial of a number.\n",
        "\n",
        "```\n",
        "4! = 1*2*3*4 = 24\n",
        "3! = 3*2*1 = 6\n",
        "2! = 2*1 = 2\n",
        "\n",
        "Also,\n",
        "1! = 1\n",
        "0! = 1\n",
        "```\n"
      ],
      "metadata": {
        "id": "PpkgIjOEKUU0"
      }
    },
    {
      "cell_type": "markdown",
      "source": [
        "9) Write a program that calculates the sum of the digits of a given number. Ask the user to input a number"
      ],
      "metadata": {
        "id": "1V-KIxBHKjiU"
      }
    },
    {
      "cell_type": "markdown",
      "source": [
        "10) Write a Python program that takes a string input from the user and counts the number of characters in the string."
      ],
      "metadata": {
        "id": "cLIPyMzuLLUU"
      }
    },
    {
      "cell_type": "code",
      "source": [
        "#Task 1\n",
        "sample_dict = {\n",
        "    'Phsyics':82,\n",
        "    'Math':65,\n",
        "    'History':75\n",
        "}\n",
        "for key in sample_dict:\n",
        "  print(key)"
      ],
      "metadata": {
        "colab": {
          "base_uri": "https://localhost:8080/"
        },
        "id": "WKRxqE4bYujV",
        "outputId": "d2cc3153-4d4c-44a7-f97c-0d12d2a22a57"
      },
      "execution_count": null,
      "outputs": [
        {
          "output_type": "stream",
          "name": "stdout",
          "text": [
            "Phsyics\n",
            "Math\n",
            "History\n"
          ]
        }
      ]
    },
    {
      "cell_type": "code",
      "source": [
        "#Task 2\n",
        "sample_dict = {\n",
        "    'Physics': 82,\n",
        "    'Math': 65,\n",
        "    'history': 75,\n",
        "    'chemistry': 89,\n",
        "    'GK': 50\n",
        "    }\n",
        "x = sum(sample_dict.values())\n",
        "print(x)"
      ],
      "metadata": {
        "colab": {
          "base_uri": "https://localhost:8080/"
        },
        "id": "j8lgIOyzaYuw",
        "outputId": "47341ae9-a028-4855-c004-0d747a337dbe"
      },
      "execution_count": null,
      "outputs": [
        {
          "output_type": "stream",
          "name": "stdout",
          "text": [
            "361\n"
          ]
        }
      ]
    },
    {
      "cell_type": "code",
      "source": [
        "#Task 3\n",
        "sample_dict = {\n",
        "    'Physics': 82,\n",
        "    'Math': 65,\n",
        "    'history': 75\n",
        "}\n",
        "\n",
        "a = min(sample_dict, key=sample_dict.get)\n",
        "\n",
        "print(a)"
      ],
      "metadata": {
        "colab": {
          "base_uri": "https://localhost:8080/"
        },
        "id": "G9YY2Cj5bDlY",
        "outputId": "9fcf2602-68cb-4a0c-898c-9b6a90c757f0"
      },
      "execution_count": null,
      "outputs": [
        {
          "output_type": "stream",
          "name": "stdout",
          "text": [
            "Math\n"
          ]
        }
      ]
    },
    {
      "cell_type": "code",
      "source": [
        "#Task 4\n",
        "\n",
        "sample_dict = {\n",
        "    \"name\": \"Khalid\",\n",
        "    \"age\": 23,\n",
        "    \"salary\": 1000,\n",
        "    \"city\": \"Baku\"\n",
        "}\n",
        "\n",
        "keys = [\"name\", \"salary\"]\n",
        "\n",
        "for key in keys:\n",
        "  del sample_dict[key]\n",
        "print(sample_dict.items())"
      ],
      "metadata": {
        "colab": {
          "base_uri": "https://localhost:8080/"
        },
        "id": "xAz1hwAJdEJ9",
        "outputId": "f31fb63f-54af-491d-b478-2c20e2ee20b3"
      },
      "execution_count": null,
      "outputs": [
        {
          "output_type": "stream",
          "name": "stdout",
          "text": [
            "dict_items([('age', 23), ('city', 'Baku')])\n"
          ]
        }
      ]
    },
    {
      "cell_type": "code",
      "source": [
        "#Task 5\n",
        "sample_dict = {\n",
        "    \"name\": \"Khalid\",\n",
        "    \"age\": 23,\n",
        "    \"salary\": 1000,\n",
        "    \"city\": \"Baku\"\n",
        "}\n",
        "\n",
        "keys = [\"name\", \"salary\"]\n",
        "\n",
        "dict1 = {key: sample_dict[key] for key in keys}\n",
        "\n",
        "print(dict1.items())"
      ],
      "metadata": {
        "colab": {
          "base_uri": "https://localhost:8080/"
        },
        "id": "qkgpdoPn-lGu",
        "outputId": "be1b7bd8-0c24-4718-f4db-8c76d3984773"
      },
      "execution_count": null,
      "outputs": [
        {
          "output_type": "stream",
          "name": "stdout",
          "text": [
            "dict_items([('name', 'Khalid'), ('salary', 1000)])\n"
          ]
        }
      ]
    },
    {
      "cell_type": "code",
      "execution_count": null,
      "metadata": {
        "id": "pmqLrrVLJLGs",
        "colab": {
          "base_uri": "https://localhost:8080/"
        },
        "outputId": "201108b6-56af-48d5-a298-fc0e40e81b4e"
      },
      "outputs": [
        {
          "output_type": "stream",
          "name": "stdout",
          "text": [
            "1\n",
            "2\n",
            "3\n",
            "4\n",
            "5\n",
            "6\n",
            "7\n",
            "8\n",
            "9\n",
            "10\n",
            "5.5\n"
          ]
        }
      ],
      "source": [
        "#Task 6\n",
        "a = 0\n",
        "b = 0\n",
        "c = 0\n",
        "while b < 10:\n",
        "  a = int(input())\n",
        "  c += a\n",
        "  b += 1\n",
        "\n",
        "average = c/a\n",
        "print(average)"
      ]
    },
    {
      "cell_type": "code",
      "source": [
        "#Task 7\n",
        "i = 1\n",
        "while i <= 10:\n",
        "  print(24, \"x\", i, \"=\", 24 * i)\n",
        "  i += 1"
      ],
      "metadata": {
        "colab": {
          "base_uri": "https://localhost:8080/"
        },
        "id": "GzQHoZTNE3eN",
        "outputId": "e8ea5b53-3d36-4512-8bac-69bc96a81586"
      },
      "execution_count": null,
      "outputs": [
        {
          "output_type": "stream",
          "name": "stdout",
          "text": [
            "24 x 1 = 24\n",
            "24 x 2 = 48\n",
            "24 x 3 = 72\n",
            "24 x 4 = 96\n",
            "24 x 5 = 120\n",
            "24 x 6 = 144\n",
            "24 x 7 = 168\n",
            "24 x 8 = 192\n",
            "24 x 9 = 216\n",
            "24 x 10 = 240\n"
          ]
        }
      ]
    },
    {
      "cell_type": "code",
      "source": [
        "#Task 8 !!!\n",
        "n = int(input())\n",
        "for i in range(1, n):\n",
        "  if n == 1 or n == 0:\n",
        "    f = 1\n",
        "  a = i*(i - 1)\n",
        "  f += a\n",
        "print(f)"
      ],
      "metadata": {
        "colab": {
          "base_uri": "https://localhost:8080/"
        },
        "id": "__H8UHqAGeC8",
        "outputId": "6c7e176d-67ad-422e-e2a2-37a20065886a"
      },
      "execution_count": null,
      "outputs": [
        {
          "output_type": "stream",
          "name": "stdout",
          "text": [
            "1\n",
            "120\n"
          ]
        }
      ]
    },
    {
      "cell_type": "code",
      "source": [
        "#Task 9 (abc -> a+b+c)\n",
        "a = input()\n",
        "i = 0\n",
        "sumnum = 0\n",
        "while True:\n",
        "   sumnum += int(a[i])\n",
        "   i += 1\n",
        "   if i>=len(a):\n",
        "      break\n",
        "print(sumnum)\n"
      ],
      "metadata": {
        "colab": {
          "base_uri": "https://localhost:8080/"
        },
        "id": "8zn5VNMjf32-",
        "outputId": "db3e9c38-e10c-4578-fb9f-61f69f2b9ee9"
      },
      "execution_count": null,
      "outputs": [
        {
          "output_type": "stream",
          "name": "stdout",
          "text": [
            "568392\n",
            "33\n"
          ]
        }
      ]
    },
    {
      "cell_type": "code",
      "source": [
        "#Task 10\n",
        "a = input()\n",
        "print(len(a))\n"
      ],
      "metadata": {
        "colab": {
          "base_uri": "https://localhost:8080/"
        },
        "id": "mUNnUkxHOkIw",
        "outputId": "2d5ad2cc-3fbc-481b-c37a-3d670db084eb"
      },
      "execution_count": null,
      "outputs": [
        {
          "output_type": "stream",
          "name": "stdout",
          "text": [
            "2372783\n",
            "7\n"
          ]
        }
      ]
    }
  ]
}